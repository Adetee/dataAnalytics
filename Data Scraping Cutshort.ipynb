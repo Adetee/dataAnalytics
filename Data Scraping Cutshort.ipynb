{
 "cells": [
  {
   "cell_type": "code",
   "execution_count": 8,
   "metadata": {},
   "outputs": [],
   "source": [
    "import requests\n",
    "from bs4 import BeautifulSoup #for parsing HTL, XML files\n",
    "import pandas as pd\n",
    "import numpy as np\n",
    "import os\n",
    "#%matplotlib inline"
   ]
  },
  {
   "cell_type": "code",
   "execution_count": 9,
   "metadata": {},
   "outputs": [],
   "source": [
    "seed_urls = ['https://inshorts.com/en/read/technology',\n",
    "             'https://inshorts.com/en/read/sports',\n",
    "             'https://inshorts.com/en/read/world']\n",
    "\n",
    "def build_dataset(seed_urls):\n",
    "    news_data = []\n",
    "    for url in seed_urls:\n",
    "        news_category = url.split('/')[-1]\n",
    "        data = requests.get(url)\n",
    "        soup = BeautifulSoup(data.content, 'html.parser')\n",
    "        \n",
    "        news_articles = [{'news_headline': headline.find('span', \n",
    "                                                         attrs={\"itemprop\": \"headline\"}).string, #<span itemprop=\"headline\">some headline</span>\n",
    "                          'news_article': article.find('div', \n",
    "                                                       attrs={\"itemprop\": \"articleBody\"}).string,\n",
    "                          'news_category': news_category}\n",
    "                         \n",
    "                            for headline, article in \n",
    "                             zip(soup.find_all('div', \n",
    "                                               class_=[\"news-card-title news-right-box\"]),\n",
    "                                 soup.find_all('div', \n",
    "                                               class_=[\"news-card-content news-right-box\"]))\n",
    "                        ]\n",
    "        news_data.extend(news_articles)\n",
    "        \n",
    "    df =  pd.DataFrame(news_data)\n",
    "    df = df[['news_headline', 'news_article', 'news_category']]\n",
    "    return df"
   ]
  },
  {
   "cell_type": "code",
   "execution_count": 10,
   "metadata": {},
   "outputs": [
    {
     "data": {
      "text/html": [
       "<div>\n",
       "<style scoped>\n",
       "    .dataframe tbody tr th:only-of-type {\n",
       "        vertical-align: middle;\n",
       "    }\n",
       "\n",
       "    .dataframe tbody tr th {\n",
       "        vertical-align: top;\n",
       "    }\n",
       "\n",
       "    .dataframe thead th {\n",
       "        text-align: right;\n",
       "    }\n",
       "</style>\n",
       "<table border=\"1\" class=\"dataframe\">\n",
       "  <thead>\n",
       "    <tr style=\"text-align: right;\">\n",
       "      <th></th>\n",
       "      <th>news_headline</th>\n",
       "      <th>news_article</th>\n",
       "      <th>news_category</th>\n",
       "    </tr>\n",
       "  </thead>\n",
       "  <tbody>\n",
       "    <tr>\n",
       "      <th>0</th>\n",
       "      <td>OPPO launches film under 'Be The Light, To Spr...</td>\n",
       "      <td>OPPO has launched a short film 'Phuljhari' und...</td>\n",
       "      <td>technology</td>\n",
       "    </tr>\n",
       "    <tr>\n",
       "      <th>1</th>\n",
       "      <td>Twitter issues statement after J&amp;K shown as pa...</td>\n",
       "      <td>After a location tag in a live broadcast showe...</td>\n",
       "      <td>technology</td>\n",
       "    </tr>\n",
       "    <tr>\n",
       "      <th>2</th>\n",
       "      <td>OnePlus announces special offers on newly laun...</td>\n",
       "      <td>OnePlus has announced special offers on the ne...</td>\n",
       "      <td>technology</td>\n",
       "    </tr>\n",
       "    <tr>\n",
       "      <th>3</th>\n",
       "      <td>Sussanne says her Insta account was hacked aft...</td>\n",
       "      <td>Actor Hrithik Roshan's ex-wife, entrepreneur S...</td>\n",
       "      <td>technology</td>\n",
       "    </tr>\n",
       "    <tr>\n",
       "      <th>4</th>\n",
       "      <td>Twitter shows J&amp;K as China's territory; securi...</td>\n",
       "      <td>National security analyst Nitin A Gokhale took...</td>\n",
       "      <td>technology</td>\n",
       "    </tr>\n",
       "  </tbody>\n",
       "</table>\n",
       "</div>"
      ],
      "text/plain": [
       "                                       news_headline  \\\n",
       "0  OPPO launches film under 'Be The Light, To Spr...   \n",
       "1  Twitter issues statement after J&K shown as pa...   \n",
       "2  OnePlus announces special offers on newly laun...   \n",
       "3  Sussanne says her Insta account was hacked aft...   \n",
       "4  Twitter shows J&K as China's territory; securi...   \n",
       "\n",
       "                                        news_article news_category  \n",
       "0  OPPO has launched a short film 'Phuljhari' und...    technology  \n",
       "1  After a location tag in a live broadcast showe...    technology  \n",
       "2  OnePlus has announced special offers on the ne...    technology  \n",
       "3  Actor Hrithik Roshan's ex-wife, entrepreneur S...    technology  \n",
       "4  National security analyst Nitin A Gokhale took...    technology  "
      ]
     },
     "execution_count": 10,
     "metadata": {},
     "output_type": "execute_result"
    }
   ],
   "source": [
    "news_df = build_dataset(seed_urls)\n",
    "news_df.head()"
   ]
  },
  {
   "cell_type": "code",
   "execution_count": 11,
   "metadata": {},
   "outputs": [
    {
     "data": {
      "text/plain": [
       "0     OPPO launches film under 'Be The Light, To Spr...\n",
       "1     Twitter issues statement after J&K shown as pa...\n",
       "2     OnePlus announces special offers on newly laun...\n",
       "3     Sussanne says her Insta account was hacked aft...\n",
       "4     Twitter shows J&K as China's territory; securi...\n",
       "5     We don't collect users' data on sex lives: Air...\n",
       "6     Xiaomi issues statement after Arunachal disapp...\n",
       "7     Pak lifts ban on TikTok after banning it over ...\n",
       "8     Hiring your friends is a typical first-time CE...\n",
       "9     Twitter removes Trump's COVID-19 advisor's pos...\n",
       "10    Facebook's Messenger API will soon allow autom...\n",
       "11    China revises laws to strengthen protection of...\n",
       "12    UK's NHS tests drone to deliver COVID-19 kits ...\n",
       "13    15 EU countries call for strategy to tackle fa...\n",
       "14    Deutsche Telekom successfully tests 4G connect...\n",
       "15    Facebook ex-exec offers $5,000 to jailbreak Fa...\n",
       "16    Founder-led tech firms doubled their share pri...\n",
       "17    South Korea's SK Hynix to buy Intel's NAND mem...\n",
       "18    Irish regulator probes Instagram's handling of...\n",
       "19    US govt agencies to use AI to spot outdated re...\n",
       "20    Drone to map geographical data of Delhi-Meerut...\n",
       "21    Muralitharan asks Vijay to drop out of his bio...\n",
       "22    MS Dhoni becomes first-ever cricketer to play ...\n",
       "23    Who were the first cricketers to reach 200 mat...\n",
       "24    CSK lose to RR after registering lowest first ...\n",
       "25    What difference does 190 or 200 really make: D...\n",
       "26    This season we weren't really there: Dhoni aft...\n",
       "27    Who would've won if boundary count rule was im...\n",
       "28    I am still shaking: Preity on KXIP beating MI ...\n",
       "29    I just couldn’t do ordinary stuff when MS Dhon...\n",
       "                            ...                        \n",
       "40    DC announce Pravin Dubey as replacement for Am...\n",
       "41    Good line and length difficult to play even fo...\n",
       "42    Happy to bat at number five for RR: Buttler af...\n",
       "43    Fantastic stuff: Jonty Rhodes on Mayank saving...\n",
       "44    Shami wanted to bowl 6 yorkers, you've to trus...\n",
       "45    Have sought assurance from ICC over visas for ...\n",
       "46    Next 6-12 weeks in US to be darkest of pandemi...\n",
       "47    UNICEF to stockpile 52 cr syringes by 2020-end...\n",
       "48    Russian hackers targeted this year's Olympics ...\n",
       "49    Pak lifts ban on TikTok after banning it over ...\n",
       "50    Chinese soldier held by security forces in Lad...\n",
       "51    Himachal man who moved to New Zealand 20 years...\n",
       "52    US most powerful country influencing Asia-Paci...\n",
       "53    Trump counts $20 bills before donating at chur...\n",
       "54    Women prisoners raped, tortured during interro...\n",
       "55    7.5-magnitude earthquake off Alaska triggers 2...\n",
       "56    Don't want that rubbish: NZ journo to politici...\n",
       "57    China's economy grows 4.9% in July-September q...\n",
       "58    Greece finalises plan to build wall on border ...\n",
       "59    Bears kill zookeeper in front of visitors in C...\n",
       "60    Ex-Pak PM's daughter says police broke into ho...\n",
       "61    South Africa's health minister, wife test +ve ...\n",
       "62    He is a disaster: Trump on top US infectious-d...\n",
       "63          Global coronavirus cases cross 4 crore-mark\n",
       "64    B'desh PM sends gifts to West Bengal CM on occ...\n",
       "65    Taiwan accuses Chinese diplomats of assaulting...\n",
       "66    Ex-Russian city mayor sentenced to community s...\n",
       "67    Biden not good for India as he could be soft o...\n",
       "68    Copenhagen Mayor resigns after admitting to se...\n",
       "69    China denies report that says it may arbitrari...\n",
       "Name: news_headline, Length: 70, dtype: object"
      ]
     },
     "execution_count": 11,
     "metadata": {},
     "output_type": "execute_result"
    }
   ],
   "source": [
    "news_df['news_headline']"
   ]
  },
  {
   "cell_type": "code",
   "execution_count": null,
   "metadata": {},
   "outputs": [],
   "source": []
  },
  {
   "cell_type": "code",
   "execution_count": 4,
   "metadata": {},
   "outputs": [
    {
     "data": {
      "text/plain": [
       "sports        25\n",
       "world         24\n",
       "technology    21\n",
       "Name: news_category, dtype: int64"
      ]
     },
     "execution_count": 4,
     "metadata": {},
     "output_type": "execute_result"
    }
   ],
   "source": [
    "news_df.news_category.value_counts()"
   ]
  },
  {
   "cell_type": "code",
   "execution_count": null,
   "metadata": {},
   "outputs": [],
   "source": []
  },
  {
   "cell_type": "code",
   "execution_count": 12,
   "metadata": {},
   "outputs": [
    {
     "data": {
      "text/plain": [
       "'Well this was fun What do you think '"
      ]
     },
     "execution_count": 12,
     "metadata": {},
     "output_type": "execute_result"
    }
   ],
   "source": [
    "def remove_special_characters(text, remove_digits=False):\n",
    "    pattern = r'[^a-zA-z0-9\\s]' if not remove_digits else r'[^a-zA-z\\s]'\n",
    "    text = re.sub(pattern, '', text)\n",
    "    return text\n",
    "\n",
    "remove_special_characters(\"Well this was fun! What do you think? 123#@!\", \n",
    "                          remove_digits=True)  "
   ]
  },
  {
   "cell_type": "code",
   "execution_count": 13,
   "metadata": {},
   "outputs": [],
   "source": [
    "def normalize_corpus(corpus, html_stripping=True, contraction_expansion=True,\n",
    "                     accented_char_removal=True, text_lower_case=True, \n",
    "                     text_lemmatization=True, special_char_removal=True, \n",
    "                     stopword_removal=True, remove_digits=True):\n",
    "    \n",
    "    normalized_corpus = []\n",
    "    # normalize each document in the corpus\n",
    "    for doc in corpus:\n",
    "        # strip HTML\n",
    "        if html_stripping:\n",
    "            doc = strip_html_tags(doc)\n",
    "        # remove accented characters\n",
    "        if accented_char_removal:\n",
    "            doc = remove_accented_chars(doc)\n",
    "        # expand contractions    \n",
    "        if contraction_expansion:\n",
    "            doc = expand_contractions(doc)\n",
    "        # lowercase the text    \n",
    "        if text_lower_case:\n",
    "            doc = doc.lower()\n",
    "        # remove extra newlines\n",
    "        doc = re.sub(r'[\\r|\\n|\\r\\n]+', ' ',doc)\n",
    "        # lemmatize text\n",
    "        if text_lemmatization:\n",
    "            doc = lemmatize_text(doc)\n",
    "        # remove special characters and\\or digits    \n",
    "        if special_char_removal:\n",
    "            # insert spaces between special characters to isolate them    \n",
    "            special_char_pattern = re.compile(r'([{.(-)!}])')\n",
    "            doc = special_char_pattern.sub(\" \\\\1 \", doc)\n",
    "            doc = remove_special_characters(doc, remove_digits=remove_digits)  \n",
    "        # remove extra whitespace\n",
    "        doc = re.sub(' +', ' ', doc)\n",
    "        # remove stopwords\n",
    "        if stopword_removal:\n",
    "            doc = remove_stopwords(doc, is_lower_case=text_lower_case)\n",
    "            \n",
    "        normalized_corpus.append(doc)\n",
    "        \n",
    "    return normalized_corpus"
   ]
  },
  {
   "cell_type": "code",
   "execution_count": 12,
   "metadata": {},
   "outputs": [
    {
     "name": "stdout",
     "output_type": "stream",
     "text": [
      "OPPO launches film under 'Be The Light, To Spread The Light' campaign. OPPO has launched a short film 'Phuljhari' under its 'Be the light, to spread the light' campaign. Phuljhari is a story of a man who brings happiness on the face of two underprivileged kids by contributing to their desire to celebrate Diwali. OPPO aims to encourage people this Diwali to spread happiness with the F17 Pro Diwali Edition.\n"
     ]
    }
   ],
   "source": [
    "news_df['full_text'] = news_df[\"news_headline\"].map(str)+ '. ' + news_df[\"news_article\"]\n",
    "print(news_df['full_text'][0])"
   ]
  },
  {
   "cell_type": "code",
   "execution_count": null,
   "metadata": {},
   "outputs": [],
   "source": []
  },
  {
   "cell_type": "code",
   "execution_count": null,
   "metadata": {},
   "outputs": [],
   "source": []
  },
  {
   "cell_type": "code",
   "execution_count": null,
   "metadata": {
    "scrolled": true
   },
   "outputs": [],
   "source": []
  },
  {
   "cell_type": "code",
   "execution_count": null,
   "metadata": {},
   "outputs": [],
   "source": []
  },
  {
   "cell_type": "code",
   "execution_count": null,
   "metadata": {},
   "outputs": [],
   "source": []
  },
  {
   "cell_type": "code",
   "execution_count": null,
   "metadata": {},
   "outputs": [],
   "source": []
  },
  {
   "cell_type": "code",
   "execution_count": null,
   "metadata": {},
   "outputs": [],
   "source": []
  },
  {
   "cell_type": "code",
   "execution_count": null,
   "metadata": {},
   "outputs": [],
   "source": []
  }
 ],
 "metadata": {
  "kernelspec": {
   "display_name": "Python 3",
   "language": "python",
   "name": "python3"
  },
  "language_info": {
   "codemirror_mode": {
    "name": "ipython",
    "version": 3
   },
   "file_extension": ".py",
   "mimetype": "text/x-python",
   "name": "python",
   "nbconvert_exporter": "python",
   "pygments_lexer": "ipython3",
   "version": "3.7.3"
  }
 },
 "nbformat": 4,
 "nbformat_minor": 2
}
