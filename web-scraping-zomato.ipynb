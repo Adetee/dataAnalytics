{
 "cells": [
  {
   "cell_type": "code",
   "execution_count": 11,
   "metadata": {},
   "outputs": [],
   "source": [
    "import requests\n",
    "import pandas as pd\n",
    "from bs4 import BeautifulSoup\n",
    "import re\n",
    "import csv"
   ]
  },
  {
   "cell_type": "code",
   "execution_count": 28,
   "metadata": {},
   "outputs": [],
   "source": [
    "df = pd.DataFrame()"
   ]
  },
  {
   "cell_type": "code",
   "execution_count": 2,
   "metadata": {},
   "outputs": [],
   "source": [
    "dataframe = {}"
   ]
  },
  {
   "cell_type": "code",
   "execution_count": 3,
   "metadata": {},
   "outputs": [],
   "source": [
    "headers = {'User-Agent': 'Mozilla/5.0 (Macintosh; Intel Mac OS X 10_11_6) AppleWebKit/537.36 (KHTML, like Gecko) Chrome/86.0.4240.75 Safari/537.36'}\n",
    "page_no = 1\n",
    "restaurant_reviews =[]"
   ]
  },
  {
   "cell_type": "code",
   "execution_count": 29,
   "metadata": {},
   "outputs": [],
   "source": [
    "for page_no in range(1,4):\n",
    "    response = requests.get(\"https://www.zomato.com/bangalore/restaurants?page={0}\".format(page_no), headers=headers)\n",
    "    content = response.content\n",
    "    soup = BeautifulSoup(content, \"html.parser\")\n",
    "    search_list = soup.find_all(\"div\", {'id': 'orig-search-list'})\n",
    "    list_content = search_list[0].find_all(\"div\", {'class': 'content'})\n",
    "    \n",
    "    for i in range(15):\n",
    "        #print(list_content[i])\n",
    "        res_name = list_content[i].find(\"a\",{'data-result-type': 'ResCard_Name'})\n",
    "        divs = list_content[i].find_all(class_=\"rating-value\")\n",
    "        for x in divs[0]:\n",
    "            rating = x\n",
    "        res_url = res_name.get('href')\n",
    "        \n",
    "        '''res_url = res_url+'/reviews'\n",
    "        response_url = requests.get(res_url, headers=headers)\n",
    "        content_url = response_url.content\n",
    "        content_soup = BeautifulSoup(content_url, \"html.parser\")\n",
    "        #print(content_soup)\n",
    "        #for j in range(10):\n",
    "        rev = content_soup.find_all(\"p\",{'class':\"sc-1hez2tp-0 sc-drKuOJ koPuph\"})\n",
    "        #rev1 = rev.get('span')\n",
    "        print(rev)\n",
    "        #for a in rev[10]:\n",
    "        #    print(a)'''\n",
    "        name = res_name.get('title')\n",
    "        dataframe[\"name\"] = name.strip()\n",
    "        dataframe[\"url\"] = res_url\n",
    "        dataframe[\"rating\"] = rating\n",
    "        #print(dataframe)\n",
    "        restaurant_reviews.append(dataframe['name'])\n",
    "        #print(restaurant_reviews)\n",
    "        #i += 1\n",
    "        df = df.append(pd.DataFrame([dataframe], columns=dataframe.keys()),ignore_index = True)\n",
    "        #df1.append(df, ignore_index = True)\n",
    "\n"
   ]
  },
  {
   "cell_type": "code",
   "execution_count": 31,
   "metadata": {},
   "outputs": [
    {
     "data": {
      "text/html": [
       "<div>\n",
       "<style scoped>\n",
       "    .dataframe tbody tr th:only-of-type {\n",
       "        vertical-align: middle;\n",
       "    }\n",
       "\n",
       "    .dataframe tbody tr th {\n",
       "        vertical-align: top;\n",
       "    }\n",
       "\n",
       "    .dataframe thead th {\n",
       "        text-align: right;\n",
       "    }\n",
       "</style>\n",
       "<table border=\"1\" class=\"dataframe\">\n",
       "  <thead>\n",
       "    <tr style=\"text-align: right;\">\n",
       "      <th></th>\n",
       "      <th>name</th>\n",
       "      <th>url</th>\n",
       "      <th>rating</th>\n",
       "    </tr>\n",
       "  </thead>\n",
       "  <tbody>\n",
       "    <tr>\n",
       "      <th>0</th>\n",
       "      <td>byg brewski brewing company Restaurant, Hennur</td>\n",
       "      <td>https://www.zomato.com/bangalore/byg-brewski-b...</td>\n",
       "      <td>4.5</td>\n",
       "    </tr>\n",
       "    <tr>\n",
       "      <th>1</th>\n",
       "      <td>kota kachori Restaurant, Koramangala 6th Block</td>\n",
       "      <td>https://www.zomato.com/bangalore/kota-kachori-...</td>\n",
       "      <td>4.4</td>\n",
       "    </tr>\n",
       "    <tr>\n",
       "      <th>2</th>\n",
       "      <td>druid garden Restaurant, Sahakara Nagar</td>\n",
       "      <td>https://www.zomato.com/bangalore/the-druid-gar...</td>\n",
       "      <td>4.4</td>\n",
       "    </tr>\n",
       "    <tr>\n",
       "      <th>3</th>\n",
       "      <td>nandhana palace Restaurant, Indiranagar</td>\n",
       "      <td>https://www.zomato.com/bangalore/nandhana-pala...</td>\n",
       "      <td>4.3</td>\n",
       "    </tr>\n",
       "    <tr>\n",
       "      <th>4</th>\n",
       "      <td>meghana foods Restaurant, Jayanagar</td>\n",
       "      <td>https://www.zomato.com/bangalore/meghana-foods...</td>\n",
       "      <td>4.4</td>\n",
       "    </tr>\n",
       "  </tbody>\n",
       "</table>\n",
       "</div>"
      ],
      "text/plain": [
       "                                             name  \\\n",
       "0  byg brewski brewing company Restaurant, Hennur   \n",
       "1  kota kachori Restaurant, Koramangala 6th Block   \n",
       "2         druid garden Restaurant, Sahakara Nagar   \n",
       "3         nandhana palace Restaurant, Indiranagar   \n",
       "4             meghana foods Restaurant, Jayanagar   \n",
       "\n",
       "                                                 url rating  \n",
       "0  https://www.zomato.com/bangalore/byg-brewski-b...    4.5  \n",
       "1  https://www.zomato.com/bangalore/kota-kachori-...    4.4  \n",
       "2  https://www.zomato.com/bangalore/the-druid-gar...    4.4  \n",
       "3  https://www.zomato.com/bangalore/nandhana-pala...    4.3  \n",
       "4  https://www.zomato.com/bangalore/meghana-foods...    4.4  "
      ]
     },
     "execution_count": 31,
     "metadata": {},
     "output_type": "execute_result"
    }
   ],
   "source": [
    "df.head()"
   ]
  },
  {
   "cell_type": "code",
   "execution_count": 70,
   "metadata": {},
   "outputs": [],
   "source": []
  },
  {
   "cell_type": "code",
   "execution_count": 8,
   "metadata": {},
   "outputs": [
    {
     "data": {
      "text/html": [
       "<div>\n",
       "<style scoped>\n",
       "    .dataframe tbody tr th:only-of-type {\n",
       "        vertical-align: middle;\n",
       "    }\n",
       "\n",
       "    .dataframe tbody tr th {\n",
       "        vertical-align: top;\n",
       "    }\n",
       "\n",
       "    .dataframe thead th {\n",
       "        text-align: right;\n",
       "    }\n",
       "</style>\n",
       "<table border=\"1\" class=\"dataframe\">\n",
       "  <thead>\n",
       "    <tr style=\"text-align: right;\">\n",
       "      <th></th>\n",
       "    </tr>\n",
       "  </thead>\n",
       "  <tbody>\n",
       "  </tbody>\n",
       "</table>\n",
       "</div>"
      ],
      "text/plain": [
       "Empty DataFrame\n",
       "Columns: []\n",
       "Index: []"
      ]
     },
     "execution_count": 8,
     "metadata": {},
     "output_type": "execute_result"
    }
   ],
   "source": []
  },
  {
   "cell_type": "code",
   "execution_count": null,
   "metadata": {},
   "outputs": [],
   "source": []
  }
 ],
 "metadata": {
  "kernelspec": {
   "display_name": "Python 3",
   "language": "python",
   "name": "python3"
  },
  "language_info": {
   "codemirror_mode": {
    "name": "ipython",
    "version": 3
   },
   "file_extension": ".py",
   "mimetype": "text/x-python",
   "name": "python",
   "nbconvert_exporter": "python",
   "pygments_lexer": "ipython3",
   "version": "3.7.3"
  }
 },
 "nbformat": 4,
 "nbformat_minor": 2
}
